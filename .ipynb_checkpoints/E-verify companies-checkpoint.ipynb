{
 "cells": [
  {
   "cell_type": "markdown",
   "metadata": {},
   "source": [
    "# Data analysis with E-verify companies data"
   ]
  },
  {
   "cell_type": "markdown",
   "metadata": {},
   "source": [
    "As an graduating internation student on F1 visa, the US goverment requires that I have to work for an E-verified company in order to apply for a STEM OPT visa. Rather than manually searching for each company, I decided to get a systematic undertanding about them. Luckily, data about this is provided by the government at the following website: \n",
    "\n",
    "https://www.e-verify.gov/\n",
    "\n",
    "This website provides detailed information with options for filtering out more relevant information. As I am mostly interesting in getting a job in data science, I decided to look at the Information industry. This restriction is not entirely valid as many companies in other industries are also interested in hiring mathematicians as well. For examples, here are some mathematicians/data scientists at Chevron and Philadelphia 76ers. \n",
    "\n",
    "Chevron: https://www.chevron.com/stories/i-am-a-data-scientist\n",
    "\n",
    "Philadelphia 76ers: https://www.youtube.com/watch?v=MpLHMKTolVw\n",
    "\n",
    "All relevant information is included in the excel file \"Employer-export.csv\". \n",
    "\n",
    "In this notebook, I will data science skills to extract useful information from this file. "
   ]
  },
  {
   "cell_type": "code",
   "execution_count": 62,
   "metadata": {},
   "outputs": [],
   "source": [
    "import pandas as pd\n",
    "import numpy as np\n",
    "import matplotlib.pyplot as plt\n",
    "%matplotlib inline\n",
    "import seaborn as sns\n",
    "import datetime"
   ]
  },
  {
   "cell_type": "markdown",
   "metadata": {},
   "source": [
    "**First, let us load the csv file.**"
   ]
  },
  {
   "cell_type": "code",
   "execution_count": 2,
   "metadata": {},
   "outputs": [
    {
     "data": {
      "text/html": [
       "<div>\n",
       "<style scoped>\n",
       "    .dataframe tbody tr th:only-of-type {\n",
       "        vertical-align: middle;\n",
       "    }\n",
       "\n",
       "    .dataframe tbody tr th {\n",
       "        vertical-align: top;\n",
       "    }\n",
       "\n",
       "    .dataframe thead th {\n",
       "        text-align: right;\n",
       "    }\n",
       "</style>\n",
       "<table border=\"1\" class=\"dataframe\">\n",
       "  <thead>\n",
       "    <tr style=\"text-align: right;\">\n",
       "      <th></th>\n",
       "      <th>Employer</th>\n",
       "      <th>Doing Business As</th>\n",
       "      <th>Account Status</th>\n",
       "      <th>Date Enrolled</th>\n",
       "      <th>Date Terminated</th>\n",
       "      <th>Workforce Size</th>\n",
       "      <th>Number of Hiring Sites</th>\n",
       "      <th>Hiring Site Locations (by state)</th>\n",
       "    </tr>\n",
       "  </thead>\n",
       "  <tbody>\n",
       "    <tr>\n",
       "      <td>0</td>\n",
       "      <td>080 Mellon Analytical Solutions LLC (PA for  C...</td>\n",
       "      <td>NaN</td>\n",
       "      <td>Terminated</td>\n",
       "      <td>09/17/2009</td>\n",
       "      <td>06/26/2011</td>\n",
       "      <td>100 to 499</td>\n",
       "      <td>3</td>\n",
       "      <td>CA, PA, WA</td>\n",
       "    </tr>\n",
       "    <tr>\n",
       "      <td>1</td>\n",
       "      <td>081 Mellon Analytical Solutions Inc  (Pittsburgh)</td>\n",
       "      <td>NaN</td>\n",
       "      <td>Terminated</td>\n",
       "      <td>10/21/2009</td>\n",
       "      <td>08/10/2011</td>\n",
       "      <td>20 to 99</td>\n",
       "      <td>1</td>\n",
       "      <td>PA</td>\n",
       "    </tr>\n",
       "    <tr>\n",
       "      <td>2</td>\n",
       "      <td>1 Stop Money Centers LLC</td>\n",
       "      <td>NaN</td>\n",
       "      <td>Open</td>\n",
       "      <td>08/08/2019</td>\n",
       "      <td>NaN</td>\n",
       "      <td>20 to 99</td>\n",
       "      <td>8</td>\n",
       "      <td>AZ</td>\n",
       "    </tr>\n",
       "    <tr>\n",
       "      <td>3</td>\n",
       "      <td>1 Stop Money Centers, LLC</td>\n",
       "      <td>NaN</td>\n",
       "      <td>Open</td>\n",
       "      <td>03/10/2020</td>\n",
       "      <td>NaN</td>\n",
       "      <td>20 to 99</td>\n",
       "      <td>1</td>\n",
       "      <td>AZ</td>\n",
       "    </tr>\n",
       "    <tr>\n",
       "      <td>4</td>\n",
       "      <td>1 Washington Avenue Corp</td>\n",
       "      <td>NaN</td>\n",
       "      <td>Open</td>\n",
       "      <td>02/01/2017</td>\n",
       "      <td>NaN</td>\n",
       "      <td>500 to 999</td>\n",
       "      <td>2</td>\n",
       "      <td>FL, MA</td>\n",
       "    </tr>\n",
       "  </tbody>\n",
       "</table>\n",
       "</div>"
      ],
      "text/plain": [
       "                                            Employer Doing Business As  \\\n",
       "0  080 Mellon Analytical Solutions LLC (PA for  C...               NaN   \n",
       "1  081 Mellon Analytical Solutions Inc  (Pittsburgh)               NaN   \n",
       "2                           1 Stop Money Centers LLC               NaN   \n",
       "3                          1 Stop Money Centers, LLC               NaN   \n",
       "4                           1 Washington Avenue Corp               NaN   \n",
       "\n",
       "  Account Status Date Enrolled Date Terminated Workforce Size  \\\n",
       "0     Terminated    09/17/2009      06/26/2011     100 to 499   \n",
       "1     Terminated    10/21/2009      08/10/2011       20 to 99   \n",
       "2           Open    08/08/2019             NaN       20 to 99   \n",
       "3           Open    03/10/2020             NaN       20 to 99   \n",
       "4           Open    02/01/2017             NaN     500 to 999   \n",
       "\n",
       "   Number of Hiring Sites Hiring Site Locations (by state)  \n",
       "0                       3                       CA, PA, WA  \n",
       "1                       1                               PA  \n",
       "2                       8                               AZ  \n",
       "3                       1                               AZ  \n",
       "4                       2                           FL, MA  "
      ]
     },
     "execution_count": 2,
     "metadata": {},
     "output_type": "execute_result"
    }
   ],
   "source": [
    "df=pd.read_csv('employer-export.csv')\n",
    "df.head(5)"
   ]
  },
  {
   "cell_type": "markdown",
   "metadata": {},
   "source": [
    "# **Question: How many companies enrolled in the E-verified program?**"
   ]
  },
  {
   "cell_type": "markdown",
   "metadata": {},
   "source": [
    "As the first attempt, we can simply compute the number of rows in this dataframe. "
   ]
  },
  {
   "cell_type": "code",
   "execution_count": 3,
   "metadata": {},
   "outputs": [
    {
     "data": {
      "text/plain": [
       "18174"
      ]
     },
     "execution_count": 3,
     "metadata": {},
     "output_type": "execute_result"
    }
   ],
   "source": [
    "df.shape[0]"
   ]
  },
  {
   "cell_type": "markdown",
   "metadata": {},
   "source": [
    "However, if we take a closer look at the dataframe, we will see that several companies have multiple hiring sites. We can check that by the following code."
   ]
  },
  {
   "cell_type": "code",
   "execution_count": 4,
   "metadata": {},
   "outputs": [
    {
     "data": {
      "text/plain": [
       "Progressive Casualty Insurance Company    31\n",
       "Coventry Health Care - IT                 23\n",
       "FINRA                                     18\n",
       "Government Employees Insurance Company    18\n",
       "Coventry Health Care - CSO                14\n",
       "Name: Employer, dtype: int64"
      ]
     },
     "execution_count": 4,
     "metadata": {},
     "output_type": "execute_result"
    }
   ],
   "source": [
    "df['Employer'].value_counts().head(5)"
   ]
  },
  {
   "cell_type": "markdown",
   "metadata": {},
   "source": [
    "Let us dive into a particular company: Progressive Casualty Insurance Company."
   ]
  },
  {
   "cell_type": "code",
   "execution_count": 5,
   "metadata": {},
   "outputs": [
    {
     "data": {
      "text/html": [
       "<div>\n",
       "<style scoped>\n",
       "    .dataframe tbody tr th:only-of-type {\n",
       "        vertical-align: middle;\n",
       "    }\n",
       "\n",
       "    .dataframe tbody tr th {\n",
       "        vertical-align: top;\n",
       "    }\n",
       "\n",
       "    .dataframe thead th {\n",
       "        text-align: right;\n",
       "    }\n",
       "</style>\n",
       "<table border=\"1\" class=\"dataframe\">\n",
       "  <thead>\n",
       "    <tr style=\"text-align: right;\">\n",
       "      <th></th>\n",
       "      <th>Employer</th>\n",
       "      <th>Doing Business As</th>\n",
       "      <th>Account Status</th>\n",
       "      <th>Date Enrolled</th>\n",
       "      <th>Date Terminated</th>\n",
       "      <th>Workforce Size</th>\n",
       "      <th>Number of Hiring Sites</th>\n",
       "      <th>Hiring Site Locations (by state)</th>\n",
       "    </tr>\n",
       "  </thead>\n",
       "  <tbody>\n",
       "    <tr>\n",
       "      <td>13251</td>\n",
       "      <td>Progressive Casualty Insurance Company</td>\n",
       "      <td>NaN</td>\n",
       "      <td>Open</td>\n",
       "      <td>08/17/2011</td>\n",
       "      <td>NaN</td>\n",
       "      <td>20 to 99</td>\n",
       "      <td>1</td>\n",
       "      <td>LA</td>\n",
       "    </tr>\n",
       "    <tr>\n",
       "      <td>13252</td>\n",
       "      <td>Progressive Casualty Insurance Company</td>\n",
       "      <td>NaN</td>\n",
       "      <td>Open</td>\n",
       "      <td>08/17/2011</td>\n",
       "      <td>NaN</td>\n",
       "      <td>20 to 99</td>\n",
       "      <td>1</td>\n",
       "      <td>LA</td>\n",
       "    </tr>\n",
       "    <tr>\n",
       "      <td>13253</td>\n",
       "      <td>Progressive Casualty Insurance Company</td>\n",
       "      <td>NaN</td>\n",
       "      <td>Open</td>\n",
       "      <td>08/17/2011</td>\n",
       "      <td>NaN</td>\n",
       "      <td>20 to 99</td>\n",
       "      <td>1</td>\n",
       "      <td>LA</td>\n",
       "    </tr>\n",
       "    <tr>\n",
       "      <td>13254</td>\n",
       "      <td>Progressive Casualty Insurance Company</td>\n",
       "      <td>NaN</td>\n",
       "      <td>Open</td>\n",
       "      <td>08/23/2011</td>\n",
       "      <td>NaN</td>\n",
       "      <td>5 to 9</td>\n",
       "      <td>1</td>\n",
       "      <td>LA</td>\n",
       "    </tr>\n",
       "    <tr>\n",
       "      <td>13255</td>\n",
       "      <td>Progressive Casualty Insurance Company</td>\n",
       "      <td>NaN</td>\n",
       "      <td>Open</td>\n",
       "      <td>08/17/2011</td>\n",
       "      <td>NaN</td>\n",
       "      <td>5 to 9</td>\n",
       "      <td>1</td>\n",
       "      <td>LA</td>\n",
       "    </tr>\n",
       "  </tbody>\n",
       "</table>\n",
       "</div>"
      ],
      "text/plain": [
       "                                     Employer Doing Business As  \\\n",
       "13251  Progressive Casualty Insurance Company               NaN   \n",
       "13252  Progressive Casualty Insurance Company               NaN   \n",
       "13253  Progressive Casualty Insurance Company               NaN   \n",
       "13254  Progressive Casualty Insurance Company               NaN   \n",
       "13255  Progressive Casualty Insurance Company               NaN   \n",
       "\n",
       "      Account Status Date Enrolled Date Terminated Workforce Size  \\\n",
       "13251           Open    08/17/2011             NaN       20 to 99   \n",
       "13252           Open    08/17/2011             NaN       20 to 99   \n",
       "13253           Open    08/17/2011             NaN       20 to 99   \n",
       "13254           Open    08/23/2011             NaN         5 to 9   \n",
       "13255           Open    08/17/2011             NaN         5 to 9   \n",
       "\n",
       "       Number of Hiring Sites Hiring Site Locations (by state)  \n",
       "13251                       1                               LA  \n",
       "13252                       1                               LA  \n",
       "13253                       1                               LA  \n",
       "13254                       1                               LA  \n",
       "13255                       1                               LA  "
      ]
     },
     "execution_count": 5,
     "metadata": {},
     "output_type": "execute_result"
    }
   ],
   "source": [
    "df[df['Employer']=='Progressive Casualty Insurance Company'].head()"
   ]
  },
  {
   "cell_type": "markdown",
   "metadata": {},
   "source": [
    "The data from the first three rows are identical. What does that mean? Does it mean that Progressive has three similar branches in LA or it is simply a mistake from data collectors? To partially answer this question, let us take a look at what the website says about the data: \n",
    "\n",
    "\"If the search tool results include the name of a business that has more than one hiring site or business location, it does not necessarily mean that all of the hiring sites are enrolled in E-Verify. A hiring site is the location where the employer hires employees and completes Form I-9, Employment Eligibility Verification. Employers with multiple locations may choose which of their sites participate in E-Verify.\"\n",
    "\n",
    "This seems to suggest that a big company may register for E-verify at different sites/branches and therefore may appear multiple times. From a job seeker's perspective, different hiring sites matter. For example, she/he may have preference in working in a particular location. \n",
    "\n",
    "With this reason, we will consider duplicated names to be different in our data analysis.\n",
    "\n",
    "\n",
    "As a job seeker, it is equally important to know whether a company is still participating in the E-verify program. We can get this information by the following code. "
   ]
  },
  {
   "cell_type": "code",
   "execution_count": 6,
   "metadata": {},
   "outputs": [
    {
     "data": {
      "text/plain": [
       "Open          15803\n",
       "Terminated     2371\n",
       "Name: Account Status, dtype: int64"
      ]
     },
     "execution_count": 6,
     "metadata": {},
     "output_type": "execute_result"
    }
   ],
   "source": [
    "df['Account Status'].value_counts()"
   ]
  },
  {
   "cell_type": "markdown",
   "metadata": {},
   "source": [
    "So, there are currently at least 15803 places that we can apply to!"
   ]
  },
  {
   "cell_type": "markdown",
   "metadata": {},
   "source": [
    "# **Question: How established companies are?**"
   ]
  },
  {
   "cell_type": "markdown",
   "metadata": {},
   "source": [
    "Job seekers have different preferences in choosing a company: some prefer to work for a established company while others prefer to work for a startup. Before we diving into this question, I want to remark that the day a company enrolled in the E-verify program is not the same as the day it is officially created. However, if a company is serious enough to seeking out international workers, it is fair to say they would consider joining E-verify as soon as possible. Therefore, how long a company has been enrolled in the E-verify program should tell us a lot about their establishment.\n",
    "\n",
    "The relevant information is stored in the Enrollment and Account Status columns. To make it is easier for numerical computations, we will first convert the datatype of some columns. "
   ]
  },
  {
   "cell_type": "code",
   "execution_count": 7,
   "metadata": {},
   "outputs": [],
   "source": [
    "df['Date Enrolled']=pd.to_datetime(df['Date Enrolled'])\n",
    "df['Date Terminated']=pd.to_datetime(df['Date Terminated'])"
   ]
  },
  {
   "cell_type": "markdown",
   "metadata": {},
   "source": [
    "For the moment, we will focus on companies that are currently open."
   ]
  },
  {
   "cell_type": "code",
   "execution_count": 8,
   "metadata": {},
   "outputs": [
    {
     "data": {
      "text/html": [
       "<div>\n",
       "<style scoped>\n",
       "    .dataframe tbody tr th:only-of-type {\n",
       "        vertical-align: middle;\n",
       "    }\n",
       "\n",
       "    .dataframe tbody tr th {\n",
       "        vertical-align: top;\n",
       "    }\n",
       "\n",
       "    .dataframe thead th {\n",
       "        text-align: right;\n",
       "    }\n",
       "</style>\n",
       "<table border=\"1\" class=\"dataframe\">\n",
       "  <thead>\n",
       "    <tr style=\"text-align: right;\">\n",
       "      <th></th>\n",
       "      <th>Employer</th>\n",
       "      <th>Doing Business As</th>\n",
       "      <th>Account Status</th>\n",
       "      <th>Date Enrolled</th>\n",
       "      <th>Date Terminated</th>\n",
       "      <th>Workforce Size</th>\n",
       "      <th>Number of Hiring Sites</th>\n",
       "      <th>Hiring Site Locations (by state)</th>\n",
       "    </tr>\n",
       "  </thead>\n",
       "  <tbody>\n",
       "    <tr>\n",
       "      <td>2</td>\n",
       "      <td>1 Stop Money Centers LLC</td>\n",
       "      <td>NaN</td>\n",
       "      <td>Open</td>\n",
       "      <td>2019-08-08</td>\n",
       "      <td>NaT</td>\n",
       "      <td>20 to 99</td>\n",
       "      <td>8</td>\n",
       "      <td>AZ</td>\n",
       "    </tr>\n",
       "    <tr>\n",
       "      <td>3</td>\n",
       "      <td>1 Stop Money Centers, LLC</td>\n",
       "      <td>NaN</td>\n",
       "      <td>Open</td>\n",
       "      <td>2020-03-10</td>\n",
       "      <td>NaT</td>\n",
       "      <td>20 to 99</td>\n",
       "      <td>1</td>\n",
       "      <td>AZ</td>\n",
       "    </tr>\n",
       "    <tr>\n",
       "      <td>4</td>\n",
       "      <td>1 Washington Avenue Corp</td>\n",
       "      <td>NaN</td>\n",
       "      <td>Open</td>\n",
       "      <td>2017-02-01</td>\n",
       "      <td>NaT</td>\n",
       "      <td>500 to 999</td>\n",
       "      <td>2</td>\n",
       "      <td>FL, MA</td>\n",
       "    </tr>\n",
       "    <tr>\n",
       "      <td>5</td>\n",
       "      <td>10400 N. 25th Ave., Suite 200</td>\n",
       "      <td>AVESIS, INC</td>\n",
       "      <td>Open</td>\n",
       "      <td>2015-11-19</td>\n",
       "      <td>NaT</td>\n",
       "      <td>500 to 999</td>\n",
       "      <td>2</td>\n",
       "      <td>AZ, MD</td>\n",
       "    </tr>\n",
       "    <tr>\n",
       "      <td>9</td>\n",
       "      <td>1199SEIU Benefit &amp; Pension Funds</td>\n",
       "      <td>1199SEIU National Benefit Fund</td>\n",
       "      <td>Open</td>\n",
       "      <td>2014-01-09</td>\n",
       "      <td>NaT</td>\n",
       "      <td>1,000 to 2,499</td>\n",
       "      <td>1</td>\n",
       "      <td>NY</td>\n",
       "    </tr>\n",
       "  </tbody>\n",
       "</table>\n",
       "</div>"
      ],
      "text/plain": [
       "                           Employer               Doing Business As  \\\n",
       "2          1 Stop Money Centers LLC                             NaN   \n",
       "3         1 Stop Money Centers, LLC                             NaN   \n",
       "4          1 Washington Avenue Corp                             NaN   \n",
       "5     10400 N. 25th Ave., Suite 200                     AVESIS, INC   \n",
       "9  1199SEIU Benefit & Pension Funds  1199SEIU National Benefit Fund   \n",
       "\n",
       "  Account Status Date Enrolled Date Terminated  Workforce Size  \\\n",
       "2           Open    2019-08-08             NaT        20 to 99   \n",
       "3           Open    2020-03-10             NaT        20 to 99   \n",
       "4           Open    2017-02-01             NaT      500 to 999   \n",
       "5           Open    2015-11-19             NaT      500 to 999   \n",
       "9           Open    2014-01-09             NaT  1,000 to 2,499   \n",
       "\n",
       "   Number of Hiring Sites Hiring Site Locations (by state)  \n",
       "2                       8                               AZ  \n",
       "3                       1                               AZ  \n",
       "4                       2                           FL, MA  \n",
       "5                       2                           AZ, MD  \n",
       "9                       1                               NY  "
      ]
     },
     "execution_count": 8,
     "metadata": {},
     "output_type": "execute_result"
    }
   ],
   "source": [
    "open_df=df[df['Account Status']=='Open']\n",
    "open_df.head()"
   ]
  },
  {
   "cell_type": "markdown",
   "metadata": {},
   "source": [
    "We can then compute the number of years companies have been registered with E-verify."
   ]
  },
  {
   "cell_type": "code",
   "execution_count": 33,
   "metadata": {},
   "outputs": [
    {
     "data": {
      "image/png": "[encoded data removed]",
      "text/plain": [
       "<Figure size 720x432 with 1 Axes>"
      ]
     },
     "metadata": {
      "needs_background": "light"
     },
     "output_type": "display_data"
    }
   ],
   "source": [
    "plt.figure(figsize=(10,6))\n",
    "open_df=open_df[:]\n",
    "open_df['Years_Enrolled']= datetime.date.today().year-pd.DatetimeIndex(open_df['Date Enrolled']).year\n",
    "open_df['Years_Enrolled'].plot(kind='hist', bins=12)\n",
    "plt.xlabel('Number of years enrolled')\n",
    "plt.ylabel('Number of companies')\n",
    "plt.title('Histogram of numer of years of E-verify enrollment')\n",
    "plt.show()"
   ]
  },
  {
   "cell_type": "markdown",
   "metadata": {},
   "source": [
    "There are some really established companies. Let us investigate who they are."
   ]
  },
  {
   "cell_type": "code",
   "execution_count": 10,
   "metadata": {},
   "outputs": [
    {
     "name": "stdout",
     "output_type": "stream",
     "text": [
      "There are 544 companies enrolled more than 12 years. Here are some of them:\n"
     ]
    },
    {
     "data": {
      "text/html": [
       "<div>\n",
       "<style scoped>\n",
       "    .dataframe tbody tr th:only-of-type {\n",
       "        vertical-align: middle;\n",
       "    }\n",
       "\n",
       "    .dataframe tbody tr th {\n",
       "        vertical-align: top;\n",
       "    }\n",
       "\n",
       "    .dataframe thead th {\n",
       "        text-align: right;\n",
       "    }\n",
       "</style>\n",
       "<table border=\"1\" class=\"dataframe\">\n",
       "  <thead>\n",
       "    <tr style=\"text-align: right;\">\n",
       "      <th></th>\n",
       "      <th>Employer</th>\n",
       "      <th>Doing Business As</th>\n",
       "      <th>Account Status</th>\n",
       "      <th>Date Enrolled</th>\n",
       "      <th>Date Terminated</th>\n",
       "      <th>Workforce Size</th>\n",
       "      <th>Number of Hiring Sites</th>\n",
       "      <th>Hiring Site Locations (by state)</th>\n",
       "      <th>Years_Enrolled</th>\n",
       "    </tr>\n",
       "  </thead>\n",
       "  <tbody>\n",
       "    <tr>\n",
       "      <td>5652</td>\n",
       "      <td>Empire Title Agency of Arizona LLC</td>\n",
       "      <td>NaN</td>\n",
       "      <td>Open</td>\n",
       "      <td>2007-11-14</td>\n",
       "      <td>NaT</td>\n",
       "      <td>20 to 99</td>\n",
       "      <td>1</td>\n",
       "      <td>AZ</td>\n",
       "      <td>13</td>\n",
       "    </tr>\n",
       "    <tr>\n",
       "      <td>9058</td>\n",
       "      <td>international consulting</td>\n",
       "      <td>NaN</td>\n",
       "      <td>Open</td>\n",
       "      <td>2007-02-13</td>\n",
       "      <td>NaT</td>\n",
       "      <td>20 to 99</td>\n",
       "      <td>1</td>\n",
       "      <td>MN</td>\n",
       "      <td>13</td>\n",
       "    </tr>\n",
       "    <tr>\n",
       "      <td>12179</td>\n",
       "      <td>On Q Financial, Inc.</td>\n",
       "      <td>NaN</td>\n",
       "      <td>Open</td>\n",
       "      <td>2007-10-05</td>\n",
       "      <td>NaT</td>\n",
       "      <td>500 to 999</td>\n",
       "      <td>30</td>\n",
       "      <td>AZ</td>\n",
       "      <td>13</td>\n",
       "    </tr>\n",
       "    <tr>\n",
       "      <td>13047</td>\n",
       "      <td>Powers-Leavitt Insurance Agency Inc</td>\n",
       "      <td>NaN</td>\n",
       "      <td>Open</td>\n",
       "      <td>2007-10-07</td>\n",
       "      <td>NaT</td>\n",
       "      <td>20 to 99</td>\n",
       "      <td>1</td>\n",
       "      <td>AZ</td>\n",
       "      <td>13</td>\n",
       "    </tr>\n",
       "    <tr>\n",
       "      <td>9191</td>\n",
       "      <td>IXIS Capital Markets NA Inc</td>\n",
       "      <td>NaN</td>\n",
       "      <td>Open</td>\n",
       "      <td>2006-11-09</td>\n",
       "      <td>NaT</td>\n",
       "      <td>100 to 499</td>\n",
       "      <td>2</td>\n",
       "      <td>NJ, NY</td>\n",
       "      <td>14</td>\n",
       "    </tr>\n",
       "  </tbody>\n",
       "</table>\n",
       "</div>"
      ],
      "text/plain": [
       "                                  Employer Doing Business As Account Status  \\\n",
       "5652    Empire Title Agency of Arizona LLC               NaN           Open   \n",
       "9058              international consulting               NaN           Open   \n",
       "12179                 On Q Financial, Inc.               NaN           Open   \n",
       "13047  Powers-Leavitt Insurance Agency Inc               NaN           Open   \n",
       "9191           IXIS Capital Markets NA Inc               NaN           Open   \n",
       "\n",
       "      Date Enrolled Date Terminated Workforce Size  Number of Hiring Sites  \\\n",
       "5652     2007-11-14             NaT       20 to 99                       1   \n",
       "9058     2007-02-13             NaT       20 to 99                       1   \n",
       "12179    2007-10-05             NaT     500 to 999                      30   \n",
       "13047    2007-10-07             NaT       20 to 99                       1   \n",
       "9191     2006-11-09             NaT     100 to 499                       2   \n",
       "\n",
       "      Hiring Site Locations (by state)  Years_Enrolled  \n",
       "5652                                AZ              13  \n",
       "9058                                MN              13  \n",
       "12179                               AZ              13  \n",
       "13047                               AZ              13  \n",
       "9191                            NJ, NY              14  "
      ]
     },
     "execution_count": 10,
     "metadata": {},
     "output_type": "execute_result"
    }
   ],
   "source": [
    "print(f\"There are {open_df[open_df['Years_Enrolled']>12].shape[0]} companies enrolled more than 12 years. Here are some of them:\")\n",
    "open_df[open_df['Years_Enrolled']>12].sample(5)"
   ]
  },
  {
   "cell_type": "markdown",
   "metadata": {},
   "source": [
    "It is surprised to me that lots of company is just enrolled lately. Let us take a closer look at those companies."
   ]
  },
  {
   "cell_type": "code",
   "execution_count": 11,
   "metadata": {},
   "outputs": [
    {
     "name": "stdout",
     "output_type": "stream",
     "text": [
      "There are 491 companies openned this year. Here are some of them:\n"
     ]
    },
    {
     "data": {
      "text/html": [
       "<div>\n",
       "<style scoped>\n",
       "    .dataframe tbody tr th:only-of-type {\n",
       "        vertical-align: middle;\n",
       "    }\n",
       "\n",
       "    .dataframe tbody tr th {\n",
       "        vertical-align: top;\n",
       "    }\n",
       "\n",
       "    .dataframe thead th {\n",
       "        text-align: right;\n",
       "    }\n",
       "</style>\n",
       "<table border=\"1\" class=\"dataframe\">\n",
       "  <thead>\n",
       "    <tr style=\"text-align: right;\">\n",
       "      <th></th>\n",
       "      <th>Employer</th>\n",
       "      <th>Doing Business As</th>\n",
       "      <th>Account Status</th>\n",
       "      <th>Date Enrolled</th>\n",
       "      <th>Date Terminated</th>\n",
       "      <th>Workforce Size</th>\n",
       "      <th>Number of Hiring Sites</th>\n",
       "      <th>Hiring Site Locations (by state)</th>\n",
       "      <th>Years_Enrolled</th>\n",
       "    </tr>\n",
       "  </thead>\n",
       "  <tbody>\n",
       "    <tr>\n",
       "      <td>6288</td>\n",
       "      <td>Financial Benefit Services, LLC</td>\n",
       "      <td>NaN</td>\n",
       "      <td>Open</td>\n",
       "      <td>2020-01-27</td>\n",
       "      <td>NaT</td>\n",
       "      <td>20 to 99</td>\n",
       "      <td>1</td>\n",
       "      <td>TX</td>\n",
       "      <td>0</td>\n",
       "    </tr>\n",
       "    <tr>\n",
       "      <td>2509</td>\n",
       "      <td>Bodnar Financial Advisors Inc</td>\n",
       "      <td>NaN</td>\n",
       "      <td>Open</td>\n",
       "      <td>2020-02-04</td>\n",
       "      <td>NaT</td>\n",
       "      <td>5 to 9</td>\n",
       "      <td>1</td>\n",
       "      <td>NJ</td>\n",
       "      <td>0</td>\n",
       "    </tr>\n",
       "    <tr>\n",
       "      <td>17508</td>\n",
       "      <td>volofin Capital Management</td>\n",
       "      <td>NaN</td>\n",
       "      <td>Open</td>\n",
       "      <td>2020-02-24</td>\n",
       "      <td>NaT</td>\n",
       "      <td>5 to 9</td>\n",
       "      <td>1</td>\n",
       "      <td>NY</td>\n",
       "      <td>0</td>\n",
       "    </tr>\n",
       "    <tr>\n",
       "      <td>7366</td>\n",
       "      <td>GBS OF IDAHO INC</td>\n",
       "      <td>NaN</td>\n",
       "      <td>Open</td>\n",
       "      <td>2020-01-02</td>\n",
       "      <td>NaT</td>\n",
       "      <td>5 to 9</td>\n",
       "      <td>1</td>\n",
       "      <td>ID</td>\n",
       "      <td>0</td>\n",
       "    </tr>\n",
       "    <tr>\n",
       "      <td>8463</td>\n",
       "      <td>Home Point Financial</td>\n",
       "      <td>NaN</td>\n",
       "      <td>Open</td>\n",
       "      <td>2020-01-09</td>\n",
       "      <td>NaT</td>\n",
       "      <td>1,000 to 2,499</td>\n",
       "      <td>9</td>\n",
       "      <td>AL, AZ, FL, IN, MI, NC, NJ, TX</td>\n",
       "      <td>0</td>\n",
       "    </tr>\n",
       "  </tbody>\n",
       "</table>\n",
       "</div>"
      ],
      "text/plain": [
       "                              Employer Doing Business As Account Status  \\\n",
       "6288   Financial Benefit Services, LLC               NaN           Open   \n",
       "2509     Bodnar Financial Advisors Inc               NaN           Open   \n",
       "17508       volofin Capital Management               NaN           Open   \n",
       "7366                  GBS OF IDAHO INC               NaN           Open   \n",
       "8463              Home Point Financial               NaN           Open   \n",
       "\n",
       "      Date Enrolled Date Terminated  Workforce Size  Number of Hiring Sites  \\\n",
       "6288     2020-01-27             NaT        20 to 99                       1   \n",
       "2509     2020-02-04             NaT          5 to 9                       1   \n",
       "17508    2020-02-24             NaT          5 to 9                       1   \n",
       "7366     2020-01-02             NaT          5 to 9                       1   \n",
       "8463     2020-01-09             NaT  1,000 to 2,499                       9   \n",
       "\n",
       "      Hiring Site Locations (by state)  Years_Enrolled  \n",
       "6288                                TX               0  \n",
       "2509                                NJ               0  \n",
       "17508                               NY               0  \n",
       "7366                                ID               0  \n",
       "8463    AL, AZ, FL, IN, MI, NC, NJ, TX               0  "
      ]
     },
     "execution_count": 11,
     "metadata": {},
     "output_type": "execute_result"
    }
   ],
   "source": [
    "print(f\"There are {open_df[open_df['Years_Enrolled']==0].shape[0]} companies openned this year. Here are some of them:\")\n",
    "open_df[open_df['Years_Enrolled']==0].sample(5)"
   ]
  },
  {
   "cell_type": "markdown",
   "metadata": {},
   "source": [
    "# Question: How long did terminated companies participate in the E-verify program?"
   ]
  },
  {
   "cell_type": "markdown",
   "metadata": {},
   "source": [
    "First, we need to compute the number of years a company participated in the E-verify program."
   ]
  },
  {
   "cell_type": "code",
   "execution_count": 232,
   "metadata": {},
   "outputs": [
    {
     "data": {
      "text/html": [
       "<div>\n",
       "<style scoped>\n",
       "    .dataframe tbody tr th:only-of-type {\n",
       "        vertical-align: middle;\n",
       "    }\n",
       "\n",
       "    .dataframe tbody tr th {\n",
       "        vertical-align: top;\n",
       "    }\n",
       "\n",
       "    .dataframe thead th {\n",
       "        text-align: right;\n",
       "    }\n",
       "</style>\n",
       "<table border=\"1\" class=\"dataframe\">\n",
       "  <thead>\n",
       "    <tr style=\"text-align: right;\">\n",
       "      <th></th>\n",
       "      <th>Employer</th>\n",
       "      <th>Doing Business As</th>\n",
       "      <th>Account Status</th>\n",
       "      <th>Date Enrolled</th>\n",
       "      <th>Date Terminated</th>\n",
       "      <th>Workforce Size</th>\n",
       "      <th>Number of Hiring Sites</th>\n",
       "      <th>Hiring Site Locations (by state)</th>\n",
       "      <th>Years_Enrolled</th>\n",
       "    </tr>\n",
       "  </thead>\n",
       "  <tbody>\n",
       "    <tr>\n",
       "      <td>0</td>\n",
       "      <td>080 Mellon Analytical Solutions LLC (PA for  C...</td>\n",
       "      <td>NaN</td>\n",
       "      <td>Terminated</td>\n",
       "      <td>2009-09-17</td>\n",
       "      <td>2011-06-26</td>\n",
       "      <td>100 to 499</td>\n",
       "      <td>3</td>\n",
       "      <td>CA, PA, WA</td>\n",
       "      <td>2</td>\n",
       "    </tr>\n",
       "    <tr>\n",
       "      <td>1</td>\n",
       "      <td>081 Mellon Analytical Solutions Inc  (Pittsburgh)</td>\n",
       "      <td>NaN</td>\n",
       "      <td>Terminated</td>\n",
       "      <td>2009-10-21</td>\n",
       "      <td>2011-08-10</td>\n",
       "      <td>20 to 99</td>\n",
       "      <td>1</td>\n",
       "      <td>PA</td>\n",
       "      <td>2</td>\n",
       "    </tr>\n",
       "    <tr>\n",
       "      <td>6</td>\n",
       "      <td>111 Bank  of New York (1 Wall NYC)</td>\n",
       "      <td>NaN</td>\n",
       "      <td>Terminated</td>\n",
       "      <td>2008-04-25</td>\n",
       "      <td>2011-09-15</td>\n",
       "      <td>10,000 and over</td>\n",
       "      <td>16</td>\n",
       "      <td>CA, CO, FL, GA, MA, NJ, NY, PA, TN, TX</td>\n",
       "      <td>3</td>\n",
       "    </tr>\n",
       "    <tr>\n",
       "      <td>7</td>\n",
       "      <td>111 Bank of New York (Harrison, NY)</td>\n",
       "      <td>NaN</td>\n",
       "      <td>Terminated</td>\n",
       "      <td>2008-04-25</td>\n",
       "      <td>2011-08-10</td>\n",
       "      <td>10,000 and over</td>\n",
       "      <td>1</td>\n",
       "      <td>NY</td>\n",
       "      <td>3</td>\n",
       "    </tr>\n",
       "    <tr>\n",
       "      <td>8</td>\n",
       "      <td>111 The Bank of New York (Wall)</td>\n",
       "      <td>NaN</td>\n",
       "      <td>Terminated</td>\n",
       "      <td>2008-07-01</td>\n",
       "      <td>2011-08-11</td>\n",
       "      <td>5,000 to 9,999</td>\n",
       "      <td>7</td>\n",
       "      <td>NJ, NY</td>\n",
       "      <td>3</td>\n",
       "    </tr>\n",
       "  </tbody>\n",
       "</table>\n",
       "</div>"
      ],
      "text/plain": [
       "                                            Employer Doing Business As  \\\n",
       "0  080 Mellon Analytical Solutions LLC (PA for  C...               NaN   \n",
       "1  081 Mellon Analytical Solutions Inc  (Pittsburgh)               NaN   \n",
       "6                 111 Bank  of New York (1 Wall NYC)               NaN   \n",
       "7                111 Bank of New York (Harrison, NY)               NaN   \n",
       "8                    111 The Bank of New York (Wall)               NaN   \n",
       "\n",
       "  Account Status Date Enrolled Date Terminated   Workforce Size  \\\n",
       "0     Terminated    2009-09-17      2011-06-26       100 to 499   \n",
       "1     Terminated    2009-10-21      2011-08-10         20 to 99   \n",
       "6     Terminated    2008-04-25      2011-09-15  10,000 and over   \n",
       "7     Terminated    2008-04-25      2011-08-10  10,000 and over   \n",
       "8     Terminated    2008-07-01      2011-08-11   5,000 to 9,999   \n",
       "\n",
       "   Number of Hiring Sites        Hiring Site Locations (by state)  \\\n",
       "0                       3                              CA, PA, WA   \n",
       "1                       1                                      PA   \n",
       "6                      16  CA, CO, FL, GA, MA, NJ, NY, PA, TN, TX   \n",
       "7                       1                                      NY   \n",
       "8                       7                                  NJ, NY   \n",
       "\n",
       "   Years_Enrolled  \n",
       "0               2  \n",
       "1               2  \n",
       "6               3  \n",
       "7               3  \n",
       "8               3  "
      ]
     },
     "execution_count": 232,
     "metadata": {},
     "output_type": "execute_result"
    }
   ],
   "source": [
    "terminated_df=df[df['Account Status']=='Terminated']\n",
    "enrolled=pd.DatetimeIndex(terminated_df['Date Enrolled']).year\n",
    "terminated=pd.DatetimeIndex(terminated_df['Date Terminated']).year\n",
    "terminated_df=terminated_df.copy()\n",
    "terminated_df['Years_Enrolled']=terminated-enrolled\n",
    "terminated_df.head()"
   ]
  },
  {
   "cell_type": "markdown",
   "metadata": {},
   "source": [
    "We can create a bar plot based on this dataframe."
   ]
  },
  {
   "cell_type": "code",
   "execution_count": 240,
   "metadata": {},
   "outputs": [
    {
     "data": {
      "image/png": "[encoded data removed]",
      "text/plain": [
       "<Figure size 720x432 with 1 Axes>"
      ]
     },
     "metadata": {
      "needs_background": "light"
     },
     "output_type": "display_data"
    }
   ],
   "source": [
    "plt.figure(figsize=(10,6))\n",
    "terminated_df['Years_Enrolled'].value_counts().sort_index().plot(kind='bar')\n",
    "plt.title('Years enrolled in the program')\n",
    "plt.xlabel('Number of years enrolled')\n",
    "plt.ylabel('Number of companies')\n",
    "plt.show()"
   ]
  },
  {
   "cell_type": "markdown",
   "metadata": {},
   "source": [
    "It comes to a big surprise to us that lot of companies only enrolled in less than 2 years. What are the reasons for their withdrawal?"
   ]
  },
  {
   "cell_type": "markdown",
   "metadata": {},
   "source": [
    "# Question: How the number of newly registered companies changes over time?"
   ]
  },
  {
   "cell_type": "markdown",
   "metadata": {},
   "source": [
    "Is this true that E-verified program is becoming more popular over time? Let us investigate this question."
   ]
  },
  {
   "cell_type": "code",
   "execution_count": 121,
   "metadata": {},
   "outputs": [
    {
     "data": {
      "image/png": "[encoded data removed]",
      "text/plain": [
       "<Figure size 720x432 with 1 Axes>"
      ]
     },
     "metadata": {
      "needs_background": "light"
     },
     "output_type": "display_data"
    }
   ],
   "source": [
    "plt.figure(figsize=(10,6))\n",
    "yearly_data=pd.DatetimeIndex(open_df['Date Enrolled']).year.value_counts().sort_index()\n",
    "yearly_data.plot(kind='line', color='red')\n",
    "plt.xlabel('Year')\n",
    "plt.ylabel('Number of newly registered companies')\n",
    "plt.title('Newly registered companies over time')\n",
    "plt.show()"
   ]
  },
  {
   "cell_type": "markdown",
   "metadata": {},
   "source": [
    "Good news for job seeker: the data indicates that E-verify program is becoming more and more popular over time. There is a big drop in 2020. There are two possible explanation for this. First, this project is being done on July. Second, there is ongoing Covid 19 pandemic which renders new companies from joining the program."
   ]
  },
  {
   "cell_type": "markdown",
   "metadata": {},
   "source": [
    "# Question: How big comapanies are?"
   ]
  },
  {
   "cell_type": "markdown",
   "metadata": {},
   "source": [
    "Another factor that job seekers are interested in is how big a company is. Let take a look at the number of workforce size. "
   ]
  },
  {
   "cell_type": "code",
   "execution_count": 32,
   "metadata": {},
   "outputs": [
    {
     "data": {
      "image/png": "[encoded data removed]",
      "text/plain": [
       "<Figure size 720x432 with 1 Axes>"
      ]
     },
     "metadata": {
      "needs_background": "light"
     },
     "output_type": "display_data"
    }
   ],
   "source": [
    "plt.figure(figsize=(10,6))\n",
    "open_df['Workforce Size'].value_counts().plot(kind='bar')\n",
    "plt.ylabel(\"Numer of companies\")\n",
    "plt.title(\"Number of companies by workforce size\")\n",
    "plt.show()"
   ]
  },
  {
   "cell_type": "markdown",
   "metadata": {},
   "source": [
    "The majority of comapnies has less than 500 employees. Let us dive in to see companies that have the most number of employees. "
   ]
  },
  {
   "cell_type": "code",
   "execution_count": 14,
   "metadata": {},
   "outputs": [
    {
     "data": {
      "text/html": [
       "<div>\n",
       "<style scoped>\n",
       "    .dataframe tbody tr th:only-of-type {\n",
       "        vertical-align: middle;\n",
       "    }\n",
       "\n",
       "    .dataframe tbody tr th {\n",
       "        vertical-align: top;\n",
       "    }\n",
       "\n",
       "    .dataframe thead th {\n",
       "        text-align: right;\n",
       "    }\n",
       "</style>\n",
       "<table border=\"1\" class=\"dataframe\">\n",
       "  <thead>\n",
       "    <tr style=\"text-align: right;\">\n",
       "      <th></th>\n",
       "      <th>Employer</th>\n",
       "      <th>Doing Business As</th>\n",
       "      <th>Account Status</th>\n",
       "      <th>Date Enrolled</th>\n",
       "      <th>Date Terminated</th>\n",
       "      <th>Workforce Size</th>\n",
       "      <th>Number of Hiring Sites</th>\n",
       "      <th>Hiring Site Locations (by state)</th>\n",
       "      <th>Years_Enrolled</th>\n",
       "    </tr>\n",
       "  </thead>\n",
       "  <tbody>\n",
       "    <tr>\n",
       "      <td>7700</td>\n",
       "      <td>Government Employees Insurance Company</td>\n",
       "      <td>GEICO</td>\n",
       "      <td>Open</td>\n",
       "      <td>2017-12-21</td>\n",
       "      <td>NaT</td>\n",
       "      <td>10,000 and over</td>\n",
       "      <td>1</td>\n",
       "      <td>NY</td>\n",
       "      <td>3</td>\n",
       "    </tr>\n",
       "    <tr>\n",
       "      <td>15727</td>\n",
       "      <td>TD Bank, N.A.</td>\n",
       "      <td>NaN</td>\n",
       "      <td>Open</td>\n",
       "      <td>2017-03-28</td>\n",
       "      <td>NaT</td>\n",
       "      <td>10,000 and over</td>\n",
       "      <td>1497</td>\n",
       "      <td>AL, AR, CA, CO, CT, DC, DE, FL, GA, IA, IL, IN...</td>\n",
       "      <td>3</td>\n",
       "    </tr>\n",
       "    <tr>\n",
       "      <td>11332</td>\n",
       "      <td>MUFG Union Bank, N.A.</td>\n",
       "      <td>NaN</td>\n",
       "      <td>Open</td>\n",
       "      <td>2019-02-12</td>\n",
       "      <td>NaT</td>\n",
       "      <td>10,000 and over</td>\n",
       "      <td>492</td>\n",
       "      <td>AL, AR, AZ, CA, CO, CT, DC, DE, FL, GA, HI, IA...</td>\n",
       "      <td>1</td>\n",
       "    </tr>\n",
       "    <tr>\n",
       "      <td>11539</td>\n",
       "      <td>Nationwide Insurance</td>\n",
       "      <td>NaN</td>\n",
       "      <td>Open</td>\n",
       "      <td>2015-08-25</td>\n",
       "      <td>NaT</td>\n",
       "      <td>10,000 and over</td>\n",
       "      <td>1</td>\n",
       "      <td>OH</td>\n",
       "      <td>5</td>\n",
       "    </tr>\n",
       "    <tr>\n",
       "      <td>11726</td>\n",
       "      <td>New York Life Insurance</td>\n",
       "      <td>New York Life Insurance</td>\n",
       "      <td>Open</td>\n",
       "      <td>2018-05-31</td>\n",
       "      <td>NaT</td>\n",
       "      <td>10,000 and over</td>\n",
       "      <td>1</td>\n",
       "      <td>GA</td>\n",
       "      <td>2</td>\n",
       "    </tr>\n",
       "  </tbody>\n",
       "</table>\n",
       "</div>"
      ],
      "text/plain": [
       "                                     Employer        Doing Business As  \\\n",
       "7700   Government Employees Insurance Company                    GEICO   \n",
       "15727                           TD Bank, N.A.                      NaN   \n",
       "11332                   MUFG Union Bank, N.A.                      NaN   \n",
       "11539                    Nationwide Insurance                      NaN   \n",
       "11726                 New York Life Insurance  New York Life Insurance   \n",
       "\n",
       "      Account Status Date Enrolled Date Terminated   Workforce Size  \\\n",
       "7700            Open    2017-12-21             NaT  10,000 and over   \n",
       "15727           Open    2017-03-28             NaT  10,000 and over   \n",
       "11332           Open    2019-02-12             NaT  10,000 and over   \n",
       "11539           Open    2015-08-25             NaT  10,000 and over   \n",
       "11726           Open    2018-05-31             NaT  10,000 and over   \n",
       "\n",
       "       Number of Hiring Sites  \\\n",
       "7700                        1   \n",
       "15727                    1497   \n",
       "11332                     492   \n",
       "11539                       1   \n",
       "11726                       1   \n",
       "\n",
       "                        Hiring Site Locations (by state)  Years_Enrolled  \n",
       "7700                                                  NY               3  \n",
       "15727  AL, AR, CA, CO, CT, DC, DE, FL, GA, IA, IL, IN...               3  \n",
       "11332  AL, AR, AZ, CA, CO, CT, DC, DE, FL, GA, HI, IA...               1  \n",
       "11539                                                 OH               5  \n",
       "11726                                                 GA               2  "
      ]
     },
     "execution_count": 14,
     "metadata": {},
     "output_type": "execute_result"
    }
   ],
   "source": [
    "open_df[open_df['Workforce Size']=='10,000 and over'].sample(5)"
   ]
  },
  {
   "cell_type": "markdown",
   "metadata": {},
   "source": [
    "It is not surprised that most companies in this list are in the finance/insurance sectors."
   ]
  },
  {
   "cell_type": "markdown",
   "metadata": {},
   "source": [
    "# Question: Top 10 companies with the most number of hiring sites?"
   ]
  },
  {
   "cell_type": "markdown",
   "metadata": {},
   "source": [
    "For job seekers who really want to work for a particular company, it is good to have several choices working locations. Let us investigate the data about this."
   ]
  },
  {
   "cell_type": "code",
   "execution_count": 15,
   "metadata": {},
   "outputs": [
    {
     "data": {
      "text/plain": [
       "1       11235\n",
       "2        1212\n",
       "3         671\n",
       "4         388\n",
       "5         305\n",
       "        ...  \n",
       "1522        1\n",
       "8393        1\n",
       "197         1\n",
       "181         1\n",
       "1935        1\n",
       "Name: Number of Hiring Sites, Length: 249, dtype: int64"
      ]
     },
     "execution_count": 15,
     "metadata": {},
     "output_type": "execute_result"
    }
   ],
   "source": [
    "open_df['Number of Hiring Sites'].value_counts()"
   ]
  },
  {
   "cell_type": "markdown",
   "metadata": {},
   "source": [
    "It is surprising to see that lots of comapanies have more than 1000 hiring sites! Let us find the top 10 companies that have the most number of hiring sites."
   ]
  },
  {
   "cell_type": "code",
   "execution_count": 31,
   "metadata": {},
   "outputs": [
    {
     "data": {
      "image/png": "[encoded data removed]",
      "text/plain": [
       "<Figure size 720x432 with 1 Axes>"
      ]
     },
     "metadata": {
      "needs_background": "light"
     },
     "output_type": "display_data"
    }
   ],
   "source": [
    "plt.figure(figsize=(10,6))\n",
    "top_10_hiring_sites=open_df.sort_values('Number of Hiring Sites', ascending=False ).head(10).set_index('Employer')\n",
    "top_10_hiring_sites.sort_values('Number of Hiring Sites')['Number of Hiring Sites'].plot(kind='barh')\n",
    "plt.xlabel('Number of Hiring sites')\n",
    "plt.show()"
   ]
  },
  {
   "cell_type": "markdown",
   "metadata": {},
   "source": [
    "All these top 10 companies are in the insurance/finance sectors."
   ]
  },
  {
   "cell_type": "markdown",
   "metadata": {},
   "source": [
    "All of the above data analysyes are done using the explicit data. In what follows, I will use data engineering to answer more subtle and harder questions."
   ]
  },
  {
   "cell_type": "markdown",
   "metadata": {},
   "source": [
    "# Question: What are the true workforce sizes? "
   ]
  },
  {
   "cell_type": "markdown",
   "metadata": {},
   "source": [
    "As explored in the previous parts, a company may have several hiring sites. According to the following governmental document, the workforce size is computed by aggregating over all hiring sites. \n",
    "\n",
    "https://www.eeoc.gov/how-do-you-count-number-employees-employer-has\n",
    "\n",
    "As a consequence, the true workforce size could be much lower than the workforce size provided by the above data. This is kind of important for job seekers. Some prefer to work with a big team while others prefer to work with smaller team. \n",
    "\n",
    "Since the workforce size data is not numeric we cannot use that directly to compute the true workfoce sizes. Instead, we will approximate the work force size by taking the average of the lower bound and the upper bound. For example, if the data says the workforce size is \"20-99\", we will take 59. We will then devide this number by the number of hiring sites to get the true workforce site. Mathematically: \n",
    "\n",
    "$$\\text{True workforce size}=\\left[\\dfrac{\\text{lower bound} + \\text{upper bound}}{2 * \\text{number of hiring sites}} \\right]$$\n"
   ]
  },
  {
   "cell_type": "code",
   "execution_count": 84,
   "metadata": {},
   "outputs": [
    {
     "name": "stderr",
     "output_type": "stream",
     "text": [
      "/opt/anaconda3/lib/python3.7/site-packages/ipykernel_launcher.py:7: SettingWithCopyWarning: \n",
      "A value is trying to be set on a copy of a slice from a DataFrame.\n",
      "Try using .loc[row_indexer,col_indexer] = value instead\n",
      "\n",
      "See the caveats in the documentation: http://pandas.pydata.org/pandas-docs/stable/user_guide/indexing.html#returning-a-view-versus-a-copy\n",
      "  import sys\n"
     ]
    },
    {
     "data": {
      "text/html": [
       "<div>\n",
       "<style scoped>\n",
       "    .dataframe tbody tr th:only-of-type {\n",
       "        vertical-align: middle;\n",
       "    }\n",
       "\n",
       "    .dataframe tbody tr th {\n",
       "        vertical-align: top;\n",
       "    }\n",
       "\n",
       "    .dataframe thead th {\n",
       "        text-align: right;\n",
       "    }\n",
       "</style>\n",
       "<table border=\"1\" class=\"dataframe\">\n",
       "  <thead>\n",
       "    <tr style=\"text-align: right;\">\n",
       "      <th></th>\n",
       "      <th>Employer</th>\n",
       "      <th>Doing Business As</th>\n",
       "      <th>Account Status</th>\n",
       "      <th>Date Enrolled</th>\n",
       "      <th>Date Terminated</th>\n",
       "      <th>Workforce Size</th>\n",
       "      <th>Number of Hiring Sites</th>\n",
       "      <th>Hiring Site Locations (by state)</th>\n",
       "      <th>Years_Enrolled</th>\n",
       "      <th>True_Workforce_Size</th>\n",
       "    </tr>\n",
       "  </thead>\n",
       "  <tbody>\n",
       "    <tr>\n",
       "      <td>1942</td>\n",
       "      <td>Bankable Frontier Associates LLC</td>\n",
       "      <td>NaN</td>\n",
       "      <td>Open</td>\n",
       "      <td>2018-08-02</td>\n",
       "      <td>NaT</td>\n",
       "      <td>10 to 19</td>\n",
       "      <td>1</td>\n",
       "      <td>MA</td>\n",
       "      <td>2</td>\n",
       "      <td>14.0</td>\n",
       "    </tr>\n",
       "    <tr>\n",
       "      <td>5258</td>\n",
       "      <td>DMBA</td>\n",
       "      <td>NaN</td>\n",
       "      <td>Open</td>\n",
       "      <td>2011-07-11</td>\n",
       "      <td>NaT</td>\n",
       "      <td>100 to 499</td>\n",
       "      <td>1</td>\n",
       "      <td>UT</td>\n",
       "      <td>9</td>\n",
       "      <td>299.0</td>\n",
       "    </tr>\n",
       "    <tr>\n",
       "      <td>1185</td>\n",
       "      <td>Antares Capital LP</td>\n",
       "      <td>NaN</td>\n",
       "      <td>Open</td>\n",
       "      <td>2019-03-21</td>\n",
       "      <td>NaT</td>\n",
       "      <td>100 to 499</td>\n",
       "      <td>2</td>\n",
       "      <td>IL, NY</td>\n",
       "      <td>1</td>\n",
       "      <td>149.0</td>\n",
       "    </tr>\n",
       "    <tr>\n",
       "      <td>10066</td>\n",
       "      <td>Liberty Tax Company</td>\n",
       "      <td>Taxman Commeth</td>\n",
       "      <td>Open</td>\n",
       "      <td>2012-01-30</td>\n",
       "      <td>NaT</td>\n",
       "      <td>20 to 99</td>\n",
       "      <td>1</td>\n",
       "      <td>TX</td>\n",
       "      <td>8</td>\n",
       "      <td>59.0</td>\n",
       "    </tr>\n",
       "    <tr>\n",
       "      <td>3816</td>\n",
       "      <td>Citizens Trust Bank</td>\n",
       "      <td>Banking</td>\n",
       "      <td>Open</td>\n",
       "      <td>2018-09-10</td>\n",
       "      <td>NaT</td>\n",
       "      <td>20 to 99</td>\n",
       "      <td>1</td>\n",
       "      <td>GA</td>\n",
       "      <td>2</td>\n",
       "      <td>59.0</td>\n",
       "    </tr>\n",
       "  </tbody>\n",
       "</table>\n",
       "</div>"
      ],
      "text/plain": [
       "                               Employer Doing Business As Account Status  \\\n",
       "1942   Bankable Frontier Associates LLC               NaN           Open   \n",
       "5258                               DMBA               NaN           Open   \n",
       "1185                 Antares Capital LP               NaN           Open   \n",
       "10066               Liberty Tax Company    Taxman Commeth           Open   \n",
       "3816                Citizens Trust Bank           Banking           Open   \n",
       "\n",
       "      Date Enrolled Date Terminated Workforce Size  Number of Hiring Sites  \\\n",
       "1942     2018-08-02             NaT       10 to 19                       1   \n",
       "5258     2011-07-11             NaT     100 to 499                       1   \n",
       "1185     2019-03-21             NaT     100 to 499                       2   \n",
       "10066    2012-01-30             NaT       20 to 99                       1   \n",
       "3816     2018-09-10             NaT       20 to 99                       1   \n",
       "\n",
       "      Hiring Site Locations (by state)  Years_Enrolled  True_Workforce_Size  \n",
       "1942                                MA               2                 14.0  \n",
       "5258                                UT               9                299.0  \n",
       "1185                            IL, NY               1                149.0  \n",
       "10066                               TX               8                 59.0  \n",
       "3816                                GA               2                 59.0  "
      ]
     },
     "execution_count": 84,
     "metadata": {},
     "output_type": "execute_result"
    }
   ],
   "source": [
    "def average_workforce_size(text):\n",
    "    if text =='10,000 and over':\n",
    "        return 10000\n",
    "    else:\n",
    "        return (int(text.split()[0].replace(',', ''))+int(text.split()[-1].replace(',', '')))/2\n",
    "open_df=open_df[open_df['Number of Hiring Sites']>0]    \n",
    "open_df['True_Workforce_Size']=open_df['Workforce Size'].apply(average_workforce_size)//open_df['Number of Hiring Sites']\n",
    "open_df.sample(5)"
   ]
  },
  {
   "cell_type": "markdown",
   "metadata": {},
   "source": [
    "Let us examine the distribution True Work Force Size. To have meaningful plot, we will only include compananies whose true workforce size is less than 500. "
   ]
  },
  {
   "cell_type": "code",
   "execution_count": 106,
   "metadata": {},
   "outputs": [
    {
     "data": {
      "image/png": "[encoded data removed]",
      "text/plain": [
       "<Figure size 720x432 with 1 Axes>"
      ]
     },
     "metadata": {
      "needs_background": "light"
     },
     "output_type": "display_data"
    }
   ],
   "source": [
    "plt.figure(figsize=(10,6))\n",
    "open_df[open_df['True_Workforce_Size']<500]['True_Workforce_Size'].plot(kind='hist')\n",
    "plt.title('Distribution of true work force sizes capped at 500')\n",
    "plt.xlabel('True workforce size')\n",
    "plt.show()"
   ]
  },
  {
   "cell_type": "markdown",
   "metadata": {},
   "source": [
    "We see that if we cap at 500, the majority of places have less than 100 employees. If a job seeker wants to work with big teams, she might be interested in places with more than 1000 employees. We can take a look at that as well. "
   ]
  },
  {
   "cell_type": "code",
   "execution_count": 194,
   "metadata": {},
   "outputs": [
    {
     "data": {
      "image/png": "[encoded data removed]",
      "text/plain": [
       "<Figure size 720x432 with 1 Axes>"
      ]
     },
     "metadata": {
      "needs_background": "light"
     },
     "output_type": "display_data"
    }
   ],
   "source": [
    "plt.figure(figsize=(10,6))\n",
    "open_df[open_df['True_Workforce_Size']>1000]['True_Workforce_Size'].plot(kind='hist')\n",
    "plt.title('Distribution of true work force sizes capped below at 500')\n",
    "plt.xlabel('True workforce size')\n",
    "plt.show()"
   ]
  },
  {
   "cell_type": "markdown",
   "metadata": {},
   "source": [
    "We see that this job seeker has tons of choices!"
   ]
  },
  {
   "cell_type": "markdown",
   "metadata": {},
   "source": [
    "# Question:  What are the top hiring states?"
   ]
  },
  {
   "cell_type": "markdown",
   "metadata": {},
   "source": [
    "First, let use get the list of all states."
   ]
  },
  {
   "cell_type": "code",
   "execution_count": 159,
   "metadata": {},
   "outputs": [
    {
     "data": {
      "text/plain": [
       "55"
      ]
     },
     "execution_count": 159,
     "metadata": {},
     "output_type": "execute_result"
    }
   ],
   "source": [
    "states=set()\n",
    "\n",
    "for i in range(len(open_df)):\n",
    "    states=states.union(set(open_df.iloc[i]['Hiring Site Locations (by state)'].replace(',', ' ').split()))\n",
    "len(states)"
   ]
  },
  {
   "cell_type": "markdown",
   "metadata": {},
   "source": [
    "According to this website below, this number indicates that all states and territories have a at least one hiring sites. \n",
    "\n",
    "https://www.mcc.co.mercer.pa.us/dps/state_fips_code_listing.htm"
   ]
  },
  {
   "cell_type": "code",
   "execution_count": 242,
   "metadata": {},
   "outputs": [
    {
     "data": {
      "text/plain": [
       "<Figure size 720x432 with 0 Axes>"
      ]
     },
     "metadata": {},
     "output_type": "display_data"
    },
    {
     "data": {
      "image/png": "[encoded data removed]",
      "text/plain": [
       "<Figure size 432x288 with 1 Axes>"
      ]
     },
     "metadata": {
      "needs_background": "light"
     },
     "output_type": "display_data"
    }
   ],
   "source": [
    "def counting(dictionary, new_list):\n",
    "    \"\"\"\n",
    "    Update a given dictionary with a new list.\n",
    "    \n",
    "    \"\"\"\n",
    "    for item in new_list:\n",
    "        dictionary[item]=dictionary.get(item,0)+1\n",
    "    return dictionary    \n",
    "\n",
    "#count the number of companies for each state\n",
    "dictionary=dict(zip(list(states), [0]*len(states)))\n",
    "\n",
    "for i in range(len(open_df)):\n",
    "    new_list =open_df.iloc[i]['Hiring Site Locations (by state)'].replace(',', '').split()\n",
    "    dictionary= counting(dictionary, new_list)\n",
    "\n",
    "#for visualization, we create a dataframe out of this dictionary\n",
    "counting_by_states = pd.DataFrame.from_dict(dictionary, orient='index')\n",
    "counting_by_states.columns=['Number of companies']\n",
    "\n",
    "#top 10 states with the most number of companies\n",
    "fig=plt.figure(figsize=(10,6))\n",
    "counting_by_states.sort_values('Number of companies', ascending=False).iloc[:10].plot(kind='bar')    \n",
    "plt.title(\"Top 10 states with the most number of companies\")\n",
    "plt.xlabel('States')\n",
    "plt.ylabel('Number of companies')\n",
    "plt.show()"
   ]
  },
  {
   "cell_type": "markdown",
   "metadata": {},
   "source": [
    "We can equally find out the bottem 5 states with the least number of companies. "
   ]
  },
  {
   "cell_type": "code",
   "execution_count": 220,
   "metadata": {},
   "outputs": [
    {
     "data": {
      "text/plain": [
       "<Figure size 2880x2880 with 0 Axes>"
      ]
     },
     "metadata": {},
     "output_type": "display_data"
    },
    {
     "data": {
      "image/png": "[encoded data removed]",
      "text/plain": [
       "<Figure size 432x288 with 1 Axes>"
      ]
     },
     "metadata": {
      "needs_background": "light"
     },
     "output_type": "display_data"
    }
   ],
   "source": [
    "#bottom 5 states with the least number of companies\n",
    "fig=plt.figure(figsize=(40,40))\n",
    "counting_by_states.sort_values('Number of companies').head(5).plot(kind='bar')    \n",
    "plt.title(\"Bottom 5 states with the most number of companies\")\n",
    "plt.xlabel('States')\n",
    "plt.ylabel('Number of companies')\n",
    "plt.show()"
   ]
  },
  {
   "cell_type": "markdown",
   "metadata": {},
   "source": [
    "The members in this list are: Guam (GU), Virgin Islands (VI), Alaska (AK), Puerto Rico (PR). We have not been able to track down what MP stands for. \n",
    "\n",
    " "
   ]
  },
  {
   "cell_type": "code",
   "execution_count": null,
   "metadata": {},
   "outputs": [],
   "source": []
  }
 ],
 "metadata": {
  "kernelspec": {
   "display_name": "Python 3",
   "language": "python",
   "name": "python3"
  },
  "language_info": {
   "codemirror_mode": {
    "name": "ipython",
    "version": 3
   },
   "file_extension": ".py",
   "mimetype": "text/x-python",
   "name": "python",
   "nbconvert_exporter": "python",
   "pygments_lexer": "ipython3",
   "version": "3.7.4"
  }
 },
 "nbformat": 4,
 "nbformat_minor": 2
}
